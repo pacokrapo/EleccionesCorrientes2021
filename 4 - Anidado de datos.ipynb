{
 "cells": [
  {
   "cell_type": "code",
   "execution_count": 31,
   "metadata": {},
   "outputs": [],
   "source": [
    "import pandas as pd\n",
    "\n",
    "Coordenadas = pd.read_csv(\"Coordenadas.csv\")"
   ]
  },
  {
   "cell_type": "markdown",
   "metadata": {},
   "source": [
    "Funciones para modificar los nombres y adaptarlos:"
   ]
  },
  {
   "cell_type": "code",
   "execution_count": 32,
   "metadata": {},
   "outputs": [],
   "source": [
    "import re\n",
    "import unicodedata\n",
    "\n",
    "def eliminar_acentos(texto):\n",
    "    # Normaliza el texto y elimina los caracteres diacríticos (acentos)\n",
    "    return ''.join(\n",
    "        c for c in unicodedata.normalize('NFD', texto)\n",
    "        if unicodedata.category(c) != 'Mn'\n",
    "    )\n",
    "\n",
    "def transformar_texto(texto):\n",
    "    texto = texto.lower()  # Convertir todo a minúsculas\n",
    "    texto = eliminar_acentos(texto) #Eliminar acentos\n",
    "    texto = texto.replace(' ', '-')  # Reemplaza espacios por guiones\n",
    "    texto = texto.replace('nº', 'n')  # Reemplaza 'Nº' por 'n'\n",
    "    texto = re.sub(r'[^a-z0-9\\-\"]', '', texto)  # Elimina cualquier otro carácter especial\n",
    "    texto = re.sub(r'-{2,}', '-', texto)  # Reemplaza múltiples guiones por uno solo\n",
    "    return texto\n",
    "\n",
    "def limpiar_nombre(nombre):\n",
    "    caracteres_invalidos = ['<', '>', ':', '\"', '/', '\\\\', '|', '?', '*']\n",
    "    for char in caracteres_invalidos:\n",
    "        nombre = nombre.replace(char, '')  # O reemplazar con otro carácter válido\n",
    "    return nombre\n",
    "\n",
    "def cambio_nombre(nombre):\n",
    "    nombre = transformar_texto(nombre)\n",
    "    nombre = limpiar_nombre(nombre)\n",
    "    return nombre"
   ]
  },
  {
   "cell_type": "markdown",
   "metadata": {},
   "source": [
    "Ejecución de funciones:"
   ]
  },
  {
   "cell_type": "code",
   "execution_count": 33,
   "metadata": {},
   "outputs": [],
   "source": [
    "Coordenadas[\"Escuela2\"] = Coordenadas[\"Escuela\"].apply(cambio_nombre)\n",
    "\n",
    "Coordenadas[\"Escuela2\"] = Coordenadas[\"Escuela2\"].apply(lambda x: f\"{x}.csv\")"
   ]
  },
  {
   "cell_type": "markdown",
   "metadata": {},
   "source": [
    "Anidado de datos, el Dataframe de cada escuela pasa a estar en la columna Datos del Dataframe Coordenadas:"
   ]
  },
  {
   "cell_type": "code",
   "execution_count": 34,
   "metadata": {},
   "outputs": [
    {
     "data": {
      "text/html": [
       "<div>\n",
       "<style scoped>\n",
       "    .dataframe tbody tr th:only-of-type {\n",
       "        vertical-align: middle;\n",
       "    }\n",
       "\n",
       "    .dataframe tbody tr th {\n",
       "        vertical-align: top;\n",
       "    }\n",
       "\n",
       "    .dataframe thead th {\n",
       "        text-align: right;\n",
       "    }\n",
       "</style>\n",
       "<table border=\"1\" class=\"dataframe\">\n",
       "  <thead>\n",
       "    <tr style=\"text-align: right;\">\n",
       "      <th></th>\n",
       "      <th>Escuela</th>\n",
       "      <th>Latitud</th>\n",
       "      <th>Longitud</th>\n",
       "      <th>Escuela2</th>\n",
       "      <th>Datos</th>\n",
       "    </tr>\n",
       "  </thead>\n",
       "  <tbody>\n",
       "    <tr>\n",
       "      <th>0</th>\n",
       "      <td>ESC- Nº 3 \"DEL CENTENARIO\"</td>\n",
       "      <td>-27.470343</td>\n",
       "      <td>-58.839921</td>\n",
       "      <td>esc-n-3-del-centenario.csv</td>\n",
       "      <td>...</td>\n",
       "    </tr>\n",
       "    <tr>\n",
       "      <th>1</th>\n",
       "      <td>ESC- Nº 2 \"DOMINGO F- SARMIENTO\"</td>\n",
       "      <td>-28.584160</td>\n",
       "      <td>-58.007192</td>\n",
       "      <td>esc-n-2-domingo-f-sarmiento.csv</td>\n",
       "      <td>...</td>\n",
       "    </tr>\n",
       "    <tr>\n",
       "      <th>2</th>\n",
       "      <td>ESC- Nº 10 \"R- DE ESCALADA DE SAN MARTÍN\"</td>\n",
       "      <td>-30.089582</td>\n",
       "      <td>-58.782196</td>\n",
       "      <td>esc-n-10-r-de-escalada-de-san-martin.csv</td>\n",
       "      <td>...</td>\n",
       "    </tr>\n",
       "    <tr>\n",
       "      <th>3</th>\n",
       "      <td>ESC- Nº 402 \"GENARO BERÓN DE ASTRADA\"</td>\n",
       "      <td>-27.483640</td>\n",
       "      <td>-58.845587</td>\n",
       "      <td>esc-n-402-genaro-beron-de-astrada.csv</td>\n",
       "      <td>...</td>\n",
       "    </tr>\n",
       "    <tr>\n",
       "      <th>4</th>\n",
       "      <td>COLEGIO POLIMODAL \"IBERÁ\"</td>\n",
       "      <td>-28.584160</td>\n",
       "      <td>-58.007192</td>\n",
       "      <td>colegio-polimodal-ibera.csv</td>\n",
       "      <td>...</td>\n",
       "    </tr>\n",
       "    <tr>\n",
       "      <th>...</th>\n",
       "      <td>...</td>\n",
       "      <td>...</td>\n",
       "      <td>...</td>\n",
       "      <td>...</td>\n",
       "      <td>...</td>\n",
       "    </tr>\n",
       "    <tr>\n",
       "      <th>329</th>\n",
       "      <td>ESC- Nº 676 \"DIRECTORA BALBINA NIELLA\"</td>\n",
       "      <td>-28.584160</td>\n",
       "      <td>-58.007192</td>\n",
       "      <td>esc-n-676-directora-balbina-niella.csv</td>\n",
       "      <td>...</td>\n",
       "    </tr>\n",
       "    <tr>\n",
       "      <th>330</th>\n",
       "      <td>ESC- Nº 496 \"SANTIAGO MARÍA NIELLA\"</td>\n",
       "      <td>-27.363799</td>\n",
       "      <td>-58.300724</td>\n",
       "      <td>esc-n-496-santiago-maria-niella.csv</td>\n",
       "      <td>...</td>\n",
       "    </tr>\n",
       "    <tr>\n",
       "      <th>331</th>\n",
       "      <td>ESC- Nº 497 \"LETICIA MARTÍNEZ DE VALLEJOS\"</td>\n",
       "      <td>-27.334698</td>\n",
       "      <td>-58.181281</td>\n",
       "      <td>esc-n-497-leticia-martinez-de-vallejos.csv</td>\n",
       "      <td>...</td>\n",
       "    </tr>\n",
       "    <tr>\n",
       "      <th>332</th>\n",
       "      <td>ESC- PRIMARIA Nº 27 \"PAGO LARGO\"</td>\n",
       "      <td>-27.550385</td>\n",
       "      <td>-57.527767</td>\n",
       "      <td>esc-primaria-n-27-pago-largo.csv</td>\n",
       "      <td>...</td>\n",
       "    </tr>\n",
       "    <tr>\n",
       "      <th>333</th>\n",
       "      <td>ESC- Nº 149</td>\n",
       "      <td>-28.584160</td>\n",
       "      <td>-58.007192</td>\n",
       "      <td>esc-n-149.csv</td>\n",
       "      <td>...</td>\n",
       "    </tr>\n",
       "  </tbody>\n",
       "</table>\n",
       "<p>334 rows × 5 columns</p>\n",
       "</div>"
      ],
      "text/plain": [
       "                                        Escuela    Latitud   Longitud  \\\n",
       "0                    ESC- Nº 3 \"DEL CENTENARIO\" -27.470343 -58.839921   \n",
       "1              ESC- Nº 2 \"DOMINGO F- SARMIENTO\" -28.584160 -58.007192   \n",
       "2     ESC- Nº 10 \"R- DE ESCALADA DE SAN MARTÍN\" -30.089582 -58.782196   \n",
       "3         ESC- Nº 402 \"GENARO BERÓN DE ASTRADA\" -27.483640 -58.845587   \n",
       "4                     COLEGIO POLIMODAL \"IBERÁ\" -28.584160 -58.007192   \n",
       "..                                          ...        ...        ...   \n",
       "329      ESC- Nº 676 \"DIRECTORA BALBINA NIELLA\" -28.584160 -58.007192   \n",
       "330         ESC- Nº 496 \"SANTIAGO MARÍA NIELLA\" -27.363799 -58.300724   \n",
       "331  ESC- Nº 497 \"LETICIA MARTÍNEZ DE VALLEJOS\" -27.334698 -58.181281   \n",
       "332            ESC- PRIMARIA Nº 27 \"PAGO LARGO\" -27.550385 -57.527767   \n",
       "333                                 ESC- Nº 149 -28.584160 -58.007192   \n",
       "\n",
       "                                       Escuela2  \\\n",
       "0                    esc-n-3-del-centenario.csv   \n",
       "1               esc-n-2-domingo-f-sarmiento.csv   \n",
       "2      esc-n-10-r-de-escalada-de-san-martin.csv   \n",
       "3         esc-n-402-genaro-beron-de-astrada.csv   \n",
       "4                   colegio-polimodal-ibera.csv   \n",
       "..                                          ...   \n",
       "329      esc-n-676-directora-balbina-niella.csv   \n",
       "330         esc-n-496-santiago-maria-niella.csv   \n",
       "331  esc-n-497-leticia-martinez-de-vallejos.csv   \n",
       "332            esc-primaria-n-27-pago-largo.csv   \n",
       "333                               esc-n-149.csv   \n",
       "\n",
       "                                                 Datos  \n",
       "0                                                  ...  \n",
       "1                                                  ...  \n",
       "2                                                  ...  \n",
       "3                                                  ...  \n",
       "4                                                  ...  \n",
       "..                                                 ...  \n",
       "329                                                ...  \n",
       "330                                                ...  \n",
       "331                                                ...  \n",
       "332                                                ...  \n",
       "333                                                ...  \n",
       "\n",
       "[334 rows x 5 columns]"
      ]
     },
     "execution_count": 34,
     "metadata": {},
     "output_type": "execute_result"
    }
   ],
   "source": [
    "import pandas as pd\n",
    "\n",
    "listaErroneos = []\n",
    "# Función para leer un archivo CSV dado su nombre\n",
    "def leer_csv(nombre_archivo):\n",
    "    try:\n",
    "        df = pd.read_csv(f\".//DatosEscuelas//{nombre_archivo}\")\n",
    "        return df\n",
    "    except FileNotFoundError:\n",
    "        return None  # Retorna None si el archivo no se encuentra\n",
    "    except pd.errors.EmptyDataError:\n",
    "        listaErroneos.append(nombre_archivo)\n",
    "        return None  # Retorna None si el archivo está vacío\n",
    "\n",
    "# Usar apply con lambda para leer los archivos y anidarlos en una nueva columna 'Datos'\n",
    "Coordenadas['Datos'] = Coordenadas['Escuela2'].apply(lambda x: leer_csv(x))\n",
    "\n",
    "# Mostrar el DataFrame resultante\n",
    "Coordenadas"
   ]
  },
  {
   "cell_type": "code",
   "execution_count": 35,
   "metadata": {},
   "outputs": [
    {
     "data": {
      "text/plain": [
       "[]"
      ]
     },
     "execution_count": 35,
     "metadata": {},
     "output_type": "execute_result"
    }
   ],
   "source": [
    "listaErroneos"
   ]
  },
  {
   "cell_type": "markdown",
   "metadata": {},
   "source": [
    "Almacenado de Datos como un elemento de Python:"
   ]
  },
  {
   "cell_type": "code",
   "execution_count": 36,
   "metadata": {},
   "outputs": [],
   "source": [
    "import pickle\n",
    "\n",
    "with open('Datos.pkl', 'wb') as f:\n",
    "    pickle.dump(Coordenadas, f)"
   ]
  }
 ],
 "metadata": {
  "kernelspec": {
   "display_name": "Python 3",
   "language": "python",
   "name": "python3"
  },
  "language_info": {
   "codemirror_mode": {
    "name": "ipython",
    "version": 3
   },
   "file_extension": ".py",
   "mimetype": "text/x-python",
   "name": "python",
   "nbconvert_exporter": "python",
   "pygments_lexer": "ipython3",
   "version": "3.12.3"
  }
 },
 "nbformat": 4,
 "nbformat_minor": 2
}
